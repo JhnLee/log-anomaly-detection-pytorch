{
 "cells": [
  {
   "cell_type": "markdown",
   "metadata": {},
   "source": [
    "## Preliminaries"
   ]
  },
  {
   "cell_type": "code",
   "execution_count": 11,
   "metadata": {},
   "outputs": [],
   "source": [
    "import torch\n",
    "import torch.nn as nn\n",
    "from torch.utils.data import Dataset\n",
    "import pickle\n",
    "import os\n",
    "from collections import Counter\n",
    "import pandas as pd"
   ]
  },
  {
   "cell_type": "markdown",
   "metadata": {},
   "source": [
    "### table of contents\n",
    "- Pytorch\n",
    "- Datasets\n",
    "- RNN\n",
    "- Attention Mechanism\n",
    "- RNN AutoEncoder with Attention mechanism\n",
    "- CNN & CNN AutoEncoder"
   ]
  },
  {
   "cell_type": "code",
   "execution_count": null,
   "metadata": {},
   "outputs": [],
   "source": []
  },
  {
   "cell_type": "markdown",
   "metadata": {},
   "source": [
    "## Datasets\n",
    "### Hadoop Distributed File System(HDFS)\n",
    "Open dataset인 HDFS 데이터셋은 하둡 분산처리 시스템의 로그로 이루어져 있습니다.\n",
    "정상 시스템 로그와 이상 시스템 로그로 이루어져 있습니다. 이상 로그 시스템의 비율은 약 3%입니다.  \n",
    "로그 안에 있는 block_id는 해당 로그가 발생한 사건의 고유 정보를 의미합니다.   \n",
    "같은 block_id인 데이터셋은 모두 같은 사건에 대한 정보를 담고 있습니다. 따라서 block_id로 데이터를 묶어 같은 block_id로 이루어진 로그 시퀀스는 한 개의 로그 시퀀스로 판단합니다.  "
   ]
  },
  {
   "cell_type": "code",
   "execution_count": null,
   "metadata": {},
   "outputs": [],
   "source": [
    "with open('./data/blk_logkey_seq.pkl', 'rb') as f:\n",
    "    log = pickle.load(f)\n",
    "templates = pd.read_csv('./data/test_logs_split_20.txt_templates.csv')"
   ]
  },
  {
   "cell_type": "markdown",
   "metadata": {},
   "source": [
    "### Drain Log Parser\n",
    "Log Parser는 비정형 로그 데이터를 정형화된 템플릿으로 변환하는 역할을 수행합니다.\n",
    "학습된 Log Parser를 통해 HDFS 데이터셋을 템플릿으로 변환한 결과는 아래와 같습니다."
   ]
  },
  {
   "cell_type": "markdown",
   "metadata": {},
   "source": [
    "### Make Vocabulary File\n",
    "데이터를 모델에 넣기 위해서는 인코딩 과정이 필요합니다.\n",
    "본 과정에서는 이를 위해 간단한 Vocab 모듈을 제작해 사용합니다.\n",
    "Vocab 모듈은 input 데이터의 각 원소들을 해당 원소에 해당하는 embedding matrix에 매칭시키는 역할을 수행합니다."
   ]
  },
  {
   "cell_type": "code",
   "execution_count": null,
   "metadata": {},
   "outputs": [],
   "source": [
    "class Vocab:\n",
    "    ''' 데이터 인코딩에 필요한 vocab을 만드는 모듈 '''\n",
    "    def __init__(self, vocab_path):\n",
    "        # 모델에 필요한 special token을 정의합니다.\n",
    "        self.special_tokens = ['<PAD>', '<BOS>', '<EOS>', '<UNK>']\n",
    "        self.vocab_path = vocab_path\n",
    "        self.data = None\n",
    "        self.vocab = None\n",
    "        if os.path.isfile(vocab_path):\n",
    "            self.load_vocab()\n",
    "\n",
    "    def load_data(self, data_path):\n",
    "        with open(data_path, 'rb') as f:\n",
    "            data = pickle.load(f)\n",
    "        self.data = list(data.values())\n",
    "\n",
    "    def create_vocab(self):\n",
    "        assert self.data is not None\n",
    "        ctr = Counter()\n",
    "        for d in self.data:\n",
    "            ctr.update(d)\n",
    "        vocab = list(ctr.keys())\n",
    "        self.vocab = self.special_tokens + vocab\n",
    "        self.save_vocab()\n",
    "\n",
    "    def load_vocab(self):\n",
    "        with open(self.vocab_path, 'r') as f:\n",
    "            vocab = []\n",
    "            for line in f:\n",
    "                try:\n",
    "                    vocab.append(int(line.strip()))\n",
    "                except:\n",
    "                    vocab.append(line.strip())\n",
    "        self.vocab = vocab\n",
    "\n",
    "    def save_vocab(self):\n",
    "        assert self.vocab is not None\n",
    "        with open(self.vocab_path, 'w') as f:\n",
    "            for word in self.vocab:\n",
    "                f.write(str(word) + '\\n')"
   ]
  },
  {
   "cell_type": "code",
   "execution_count": 12,
   "metadata": {},
   "outputs": [
    {
     "ename": "NameError",
     "evalue": "name 'vocab' is not defined",
     "output_type": "error",
     "traceback": [
      "\u001b[0;31m---------------------------------------------------------------------------\u001b[0m",
      "\u001b[0;31mNameError\u001b[0m                                 Traceback (most recent call last)",
      "\u001b[0;32m<ipython-input-12-9317679f4bc8>\u001b[0m in \u001b[0;36m<module>\u001b[0;34m\u001b[0m\n\u001b[0;32m----> 1\u001b[0;31m \u001b[0mlog_vocab\u001b[0m \u001b[0;34m=\u001b[0m \u001b[0mvocab\u001b[0m\u001b[0;34m\u001b[0m\u001b[0;34m\u001b[0m\u001b[0m\n\u001b[0m",
      "\u001b[0;31mNameError\u001b[0m: name 'vocab' is not defined"
     ]
    }
   ],
   "source": [
    "data_path = './data/train_data.log'\n",
    "vocab_path = './data/vocab.txt'\n",
    "# Create vocab.txt\n",
    "vocab_module = Vocab(vocab_path)\n",
    "vocab_module.create_vocab()\n",
    "log_vocab = vocab_module.vocab"
   ]
  },
  {
   "cell_type": "markdown",
   "metadata": {},
   "source": [
    "### Pytorch Custom Datasets\n",
    "파이토치는 직접 datasets 모듈을 만들어 사용할 수 있습니다.\n",
    "이 때 필요한 것은 해당 모듈에\n",
    "__len__\n",
    "__getitem__\n",
    "메소드를 오버라이딩해어야 한다는 것입니다.\n"
   ]
  },
  {
   "cell_type": "code",
   "execution_count": 5,
   "metadata": {},
   "outputs": [],
   "source": []
  },
  {
   "cell_type": "code",
   "execution_count": 8,
   "metadata": {},
   "outputs": [
    {
     "data": {
      "text/plain": [
       "dict"
      ]
     },
     "execution_count": 8,
     "metadata": {},
     "output_type": "execute_result"
    }
   ],
   "source": [
    "type(log)"
   ]
  },
  {
   "cell_type": "code",
   "execution_count": 9,
   "metadata": {},
   "outputs": [
    {
     "data": {
      "text/plain": [
       "('blk_-1000002529962039464', [0, 0, 0, 3, 17, 18, 17, 18, 6, 6, 6, 17, 18])"
      ]
     },
     "execution_count": 9,
     "metadata": {},
     "output_type": "execute_result"
    }
   ],
   "source": [
    "list(log.items())[0]"
   ]
  },
  {
   "cell_type": "code",
   "execution_count": 3,
   "metadata": {},
   "outputs": [
    {
     "data": {
      "text/html": [
       "<div>\n",
       "<style scoped>\n",
       "    .dataframe tbody tr th:only-of-type {\n",
       "        vertical-align: middle;\n",
       "    }\n",
       "\n",
       "    .dataframe tbody tr th {\n",
       "        vertical-align: top;\n",
       "    }\n",
       "\n",
       "    .dataframe thead th {\n",
       "        text-align: right;\n",
       "    }\n",
       "</style>\n",
       "<table border=\"1\" class=\"dataframe\">\n",
       "  <thead>\n",
       "    <tr style=\"text-align: right;\">\n",
       "      <th></th>\n",
       "      <th>EventId</th>\n",
       "      <th>EventTemplate</th>\n",
       "      <th>Occurrences</th>\n",
       "    </tr>\n",
       "  </thead>\n",
       "  <tbody>\n",
       "    <tr>\n",
       "      <th>0</th>\n",
       "      <td>09a53393</td>\n",
       "      <td>Receiving block &lt;*&gt; src: &lt;*&gt; dest: &lt;*&gt;</td>\n",
       "      <td>381308</td>\n",
       "    </tr>\n",
       "    <tr>\n",
       "      <th>1</th>\n",
       "      <td>3d91fa85</td>\n",
       "      <td>BLOCK* NameSystem.allocateBlock: &lt;*&gt; &lt;*&gt;</td>\n",
       "      <td>128483</td>\n",
       "    </tr>\n",
       "    <tr>\n",
       "      <th>2</th>\n",
       "      <td>dc2c74b7</td>\n",
       "      <td>PacketResponder &lt;*&gt; for block &lt;*&gt; terminating</td>\n",
       "      <td>366945</td>\n",
       "    </tr>\n",
       "    <tr>\n",
       "      <th>3</th>\n",
       "      <td>e3df2680</td>\n",
       "      <td>Received block &lt;*&gt; of size &lt;*&gt; from &lt;*&gt;</td>\n",
       "      <td>366780</td>\n",
       "    </tr>\n",
       "    <tr>\n",
       "      <th>4</th>\n",
       "      <td>5d5de21c</td>\n",
       "      <td>BLOCK* NameSystem.addStoredBlock: blockMap upd...</td>\n",
       "      <td>376002</td>\n",
       "    </tr>\n",
       "  </tbody>\n",
       "</table>\n",
       "</div>"
      ],
      "text/plain": [
       "    EventId                                      EventTemplate  Occurrences\n",
       "0  09a53393             Receiving block <*> src: <*> dest: <*>       381308\n",
       "1  3d91fa85           BLOCK* NameSystem.allocateBlock: <*> <*>       128483\n",
       "2  dc2c74b7      PacketResponder <*> for block <*> terminating       366945\n",
       "3  e3df2680            Received block <*> of size <*> from <*>       366780\n",
       "4  5d5de21c  BLOCK* NameSystem.addStoredBlock: blockMap upd...       376002"
      ]
     },
     "execution_count": 3,
     "metadata": {},
     "output_type": "execute_result"
    }
   ],
   "source": [
    "templates.head()"
   ]
  },
  {
   "cell_type": "markdown",
   "metadata": {},
   "source": [
    "## Simple Pytorch Explanations"
   ]
  },
  {
   "cell_type": "code",
   "execution_count": null,
   "metadata": {},
   "outputs": [],
   "source": []
  },
  {
   "cell_type": "code",
   "execution_count": null,
   "metadata": {},
   "outputs": [],
   "source": []
  },
  {
   "cell_type": "code",
   "execution_count": null,
   "metadata": {},
   "outputs": [],
   "source": []
  },
  {
   "cell_type": "markdown",
   "metadata": {},
   "source": [
    "## Datasets"
   ]
  },
  {
   "cell_type": "code",
   "execution_count": null,
   "metadata": {},
   "outputs": [],
   "source": []
  },
  {
   "cell_type": "code",
   "execution_count": null,
   "metadata": {},
   "outputs": [],
   "source": []
  },
  {
   "cell_type": "code",
   "execution_count": 8,
   "metadata": {},
   "outputs": [],
   "source": [
    "logs = list(zip(*log.items()))"
   ]
  },
  {
   "cell_type": "code",
   "execution_count": 11,
   "metadata": {},
   "outputs": [
    {
     "data": {
      "text/plain": [
       "[0, 0, 0, 3, 17, 18, 17, 18, 6, 6, 6, 17, 18]"
      ]
     },
     "execution_count": 11,
     "metadata": {},
     "output_type": "execute_result"
    }
   ],
   "source": [
    "logs[1][0]"
   ]
  },
  {
   "cell_type": "code",
   "execution_count": 13,
   "metadata": {},
   "outputs": [
    {
     "ename": "AttributeError",
     "evalue": "'str' object has no attribute 'astype'",
     "output_type": "error",
     "traceback": [
      "\u001b[1;31m---------------------------------------------------------------------------\u001b[0m",
      "\u001b[1;31mAttributeError\u001b[0m                            Traceback (most recent call last)",
      "\u001b[1;32m<ipython-input-13-5520c23f2f1c>\u001b[0m in \u001b[0;36m<module>\u001b[1;34m\u001b[0m\n\u001b[1;32m----> 1\u001b[1;33m \u001b[1;34m'test'\u001b[0m\u001b[1;33m.\u001b[0m\u001b[0mastype\u001b[0m\u001b[1;33m(\u001b[0m\u001b[0mint\u001b[0m\u001b[1;33m)\u001b[0m\u001b[1;33m\u001b[0m\u001b[1;33m\u001b[0m\u001b[0m\n\u001b[0m",
      "\u001b[1;31mAttributeError\u001b[0m: 'str' object has no attribute 'astype'"
     ]
    }
   ],
   "source": [
    "'test'.astype(int)"
   ]
  }
 ],
 "metadata": {
  "kernelspec": {
   "display_name": "torch-senti",
   "language": "python",
   "name": "torch-senti"
  },
  "language_info": {
   "codemirror_mode": {
    "name": "ipython",
    "version": 3
   },
   "file_extension": ".py",
   "mimetype": "text/x-python",
   "name": "python",
   "nbconvert_exporter": "python",
   "pygments_lexer": "ipython3",
   "version": "3.7.4"
  }
 },
 "nbformat": 4,
 "nbformat_minor": 2
}
